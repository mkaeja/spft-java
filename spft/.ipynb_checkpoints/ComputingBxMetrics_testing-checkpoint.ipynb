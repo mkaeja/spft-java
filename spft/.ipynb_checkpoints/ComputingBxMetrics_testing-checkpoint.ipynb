{
 "cells": [
  {
   "cell_type": "code",
   "execution_count": 6,
   "id": "3f3dfe38-a290-420d-8f95-a7b76745d158",
   "metadata": {},
   "outputs": [
    {
     "name": "stdout",
     "output_type": "stream",
     "text": [
      "Populating the interactive namespace from numpy and matplotlib\n"
     ]
    }
   ],
   "source": [
    "%pylab inline\n",
    "import numpy as np\n",
    "from scipy.interpolate import interp1d\n",
    "from scipy.optimize import leastsq\n",
    "def yvals(x):\n",
    "    return np.sin(x)+np.sin(2*x)+np.sin(3*x)\n",
    "\n",
    "dx = .1\n",
    "X = np.arange(0,2*np.pi,dx)\n",
    "Y = yvals(X)\n",
    "\n",
    "unknown_shift = np.random.random() * dx\n",
    "Y_shifted = yvals(X + unknown_shift)\n",
    "\n",
    "def err_func(p):\n",
    "    return interp1d(X,Y)(X[1:-1]+p[0]) - Y_shifted[1:-1]\n",
    "\n",
    "p0 = [0,] # Inital guess of no shift\n",
    "found_shift = leastsq(err_func,p0)[0][0]"
   ]
  },
  {
   "cell_type": "code",
   "execution_count": 3,
   "id": "1bc9a59a-4a18-4ca1-9d1d-90a571e46c64",
   "metadata": {},
   "outputs": [
    {
     "name": "stdout",
     "output_type": "stream",
     "text": [
      "Unknown shift:0.037400451311176044 \n",
      "Found shift:0.03735497570641239 \n"
     ]
    }
   ],
   "source": [
    "found_shift = leastsq(err_func,p0)[0][0]\n",
    "\n",
    "print(f\"Unknown shift:{unknown_shift} \")\n",
    "print(f\"Found shift:{found_shift} \")\n"
   ]
  },
  {
   "cell_type": "code",
   "execution_count": 7,
   "id": "d3a13431-ea3c-4c1d-92ff-b1eba75b20e9",
   "metadata": {},
   "outputs": [
    {
     "data": {
      "text/plain": [
       "[<matplotlib.lines.Line2D at 0x7f0a6abf7dc0>]"
      ]
     },
     "execution_count": 7,
     "metadata": {},
     "output_type": "execute_result"
    },
    {
     "data": {
      "image/png": "[encoded data removed]",
      "text/plain": [
       "<Figure size 432x288 with 1 Axes>"
      ]
     },
     "metadata": {
      "needs_background": "light"
     },
     "output_type": "display_data"
    }
   ],
   "source": [
    "plt.plot(X,Y)\n",
    "plt.plot(X,Y_shifted)"
   ]
  },
  {
   "cell_type": "code",
   "execution_count": 39,
   "id": "c192d0be-8bab-4205-8512-71d6a914ec22",
   "metadata": {},
   "outputs": [
    {
     "data": {
      "text/plain": [
       "array([0.000e+00, 0.000e+00, 0.000e+00, 0.000e+00, 0.000e+00, 0.000e+00,\n",
       "       0.000e+00, 5.750e-02, 1.295e-01, 2.125e-01, 3.015e-01, 3.975e-01,\n",
       "       5.050e-01, 6.185e-01, 7.275e-01, 8.190e-01, 8.870e-01, 9.350e-01,\n",
       "       9.805e-01, 1.000e+00, 1.000e+00, 1.000e+00, 1.000e+00, 1.000e+00,\n",
       "       1.000e+00, 1.000e+00, 1.000e+00, 1.000e+00, 1.000e+00, 1.000e+00,\n",
       "       1.000e+00, 1.000e+00, 1.000e+00, 1.000e+00, 1.000e+00, 1.000e+00,\n",
       "       1.000e+00, 1.000e+00, 1.000e+00, 8.770e-01, 7.160e-01, 5.675e-01,\n",
       "       4.395e-01, 3.310e-01, 2.415e-01, 1.655e-01, 1.000e-01, 4.800e-02,\n",
       "       1.000e-03, 0.000e+00, 0.000e+00, 0.000e+00, 0.000e+00, 0.000e+00,\n",
       "       0.000e+00, 0.000e+00, 0.000e+00, 0.000e+00, 0.000e+00, 0.000e+00,\n",
       "       0.000e+00, 0.000e+00, 0.000e+00, 0.000e+00, 0.000e+00, 0.000e+00,\n",
       "       0.000e+00, 0.000e+00, 0.000e+00, 0.000e+00, 0.000e+00, 0.000e+00,\n",
       "       0.000e+00, 3.700e-02, 9.250e-02, 1.615e-01, 2.455e-01, 3.320e-01,\n",
       "       4.115e-01, 4.905e-01, 5.740e-01, 6.525e-01, 7.215e-01, 7.750e-01,\n",
       "       8.155e-01, 8.450e-01, 8.655e-01, 8.825e-01, 8.980e-01, 9.105e-01,\n",
       "       9.185e-01, 9.245e-01, 9.235e-01, 9.135e-01, 8.945e-01, 8.650e-01,\n",
       "       8.235e-01, 7.690e-01, 6.990e-01, 6.170e-01, 5.260e-01, 4.360e-01,\n",
       "       3.485e-01, 2.670e-01, 1.930e-01, 1.295e-01, 7.500e-02, 2.850e-02,\n",
       "       0.000e+00, 0.000e+00, 0.000e+00, 0.000e+00, 0.000e+00, 0.000e+00,\n",
       "       0.000e+00, 0.000e+00, 0.000e+00, 0.000e+00, 3.100e-02, 1.015e-01,\n",
       "       1.630e-01, 2.175e-01, 2.595e-01, 3.015e-01, 3.430e-01, 3.675e-01,\n",
       "       3.705e-01, 3.540e-01, 3.165e-01, 2.530e-01, 1.640e-01, 5.300e-02,\n",
       "       0.000e+00, 0.000e+00, 0.000e+00, 0.000e+00, 0.000e+00, 0.000e+00,\n",
       "       0.000e+00, 0.000e+00, 0.000e+00, 0.000e+00, 0.000e+00, 0.000e+00,\n",
       "       0.000e+00, 0.000e+00, 0.000e+00, 0.000e+00, 0.000e+00, 0.000e+00,\n",
       "       0.000e+00, 0.000e+00, 0.000e+00, 0.000e+00, 0.000e+00, 0.000e+00,\n",
       "       0.000e+00, 0.000e+00, 0.000e+00, 0.000e+00, 0.000e+00, 0.000e+00,\n",
       "       0.000e+00, 0.000e+00, 0.000e+00, 0.000e+00, 0.000e+00, 0.000e+00,\n",
       "       0.000e+00, 0.000e+00, 0.000e+00, 0.000e+00, 0.000e+00, 0.000e+00,\n",
       "       0.000e+00, 0.000e+00, 0.000e+00, 0.000e+00, 0.000e+00, 0.000e+00,\n",
       "       0.000e+00, 0.000e+00, 0.000e+00, 0.000e+00, 0.000e+00, 0.000e+00,\n",
       "       0.000e+00, 0.000e+00, 0.000e+00, 0.000e+00, 0.000e+00, 0.000e+00,\n",
       "       0.000e+00, 0.000e+00, 0.000e+00, 0.000e+00, 0.000e+00, 0.000e+00,\n",
       "       0.000e+00, 0.000e+00, 0.000e+00, 0.000e+00, 0.000e+00, 0.000e+00,\n",
       "       0.000e+00, 0.000e+00, 0.000e+00, 0.000e+00, 0.000e+00, 0.000e+00,\n",
       "       0.000e+00, 0.000e+00, 0.000e+00, 0.000e+00, 0.000e+00, 0.000e+00,\n",
       "       0.000e+00, 0.000e+00, 0.000e+00, 0.000e+00, 0.000e+00, 0.000e+00,\n",
       "       0.000e+00, 0.000e+00, 0.000e+00, 0.000e+00, 0.000e+00, 0.000e+00,\n",
       "       0.000e+00, 0.000e+00, 0.000e+00, 0.000e+00, 0.000e+00, 0.000e+00,\n",
       "       0.000e+00, 0.000e+00, 0.000e+00, 0.000e+00, 0.000e+00, 0.000e+00,\n",
       "       0.000e+00, 0.000e+00, 0.000e+00, 0.000e+00, 0.000e+00, 0.000e+00,\n",
       "       0.000e+00, 0.000e+00, 0.000e+00, 0.000e+00, 0.000e+00, 0.000e+00,\n",
       "       0.000e+00, 0.000e+00, 0.000e+00, 0.000e+00, 0.000e+00, 0.000e+00,\n",
       "       0.000e+00, 0.000e+00, 0.000e+00, 0.000e+00, 0.000e+00, 0.000e+00,\n",
       "       0.000e+00, 0.000e+00, 0.000e+00, 0.000e+00, 0.000e+00, 0.000e+00,\n",
       "       0.000e+00, 0.000e+00, 0.000e+00, 0.000e+00, 0.000e+00, 0.000e+00,\n",
       "       0.000e+00, 0.000e+00, 0.000e+00, 0.000e+00, 0.000e+00, 0.000e+00,\n",
       "       0.000e+00, 0.000e+00, 0.000e+00, 0.000e+00, 0.000e+00, 0.000e+00,\n",
       "       0.000e+00, 0.000e+00, 0.000e+00, 0.000e+00, 0.000e+00, 0.000e+00,\n",
       "       0.000e+00, 0.000e+00, 0.000e+00, 0.000e+00, 0.000e+00, 0.000e+00,\n",
       "       0.000e+00, 0.000e+00, 0.000e+00, 0.000e+00, 0.000e+00, 0.000e+00,\n",
       "       0.000e+00, 0.000e+00, 0.000e+00, 0.000e+00, 0.000e+00, 0.000e+00,\n",
       "       0.000e+00, 0.000e+00, 0.000e+00, 0.000e+00, 0.000e+00, 0.000e+00,\n",
       "       0.000e+00, 0.000e+00, 0.000e+00, 0.000e+00, 0.000e+00, 0.000e+00,\n",
       "       0.000e+00, 0.000e+00, 0.000e+00, 0.000e+00, 0.000e+00, 0.000e+00,\n",
       "       0.000e+00, 0.000e+00, 0.000e+00, 0.000e+00, 0.000e+00, 0.000e+00,\n",
       "       0.000e+00, 0.000e+00, 0.000e+00, 0.000e+00, 0.000e+00, 0.000e+00,\n",
       "       0.000e+00, 0.000e+00, 0.000e+00, 0.000e+00, 0.000e+00, 0.000e+00,\n",
       "       0.000e+00, 0.000e+00, 0.000e+00, 0.000e+00, 0.000e+00, 0.000e+00,\n",
       "       0.000e+00, 0.000e+00, 0.000e+00, 0.000e+00, 0.000e+00, 0.000e+00,\n",
       "       0.000e+00, 0.000e+00, 0.000e+00, 0.000e+00, 0.000e+00, 0.000e+00,\n",
       "       0.000e+00, 0.000e+00, 0.000e+00, 0.000e+00, 0.000e+00, 0.000e+00,\n",
       "       0.000e+00, 0.000e+00, 5.000e-04, 5.500e-03, 1.450e-02, 2.900e-02,\n",
       "       4.100e-02, 4.600e-02, 4.700e-02, 4.450e-02, 4.200e-02, 3.550e-02,\n",
       "       3.200e-02, 3.400e-02, 3.450e-02, 3.350e-02, 3.200e-02, 3.100e-02,\n",
       "       3.200e-02, 3.400e-02, 3.650e-02, 3.700e-02, 3.150e-02, 2.100e-02,\n",
       "       5.500e-03, 0.000e+00, 0.000e+00, 0.000e+00, 0.000e+00, 0.000e+00,\n",
       "       0.000e+00, 0.000e+00, 0.000e+00, 0.000e+00, 0.000e+00, 0.000e+00,\n",
       "       0.000e+00, 0.000e+00, 0.000e+00, 0.000e+00, 0.000e+00, 0.000e+00,\n",
       "       0.000e+00, 0.000e+00, 0.000e+00, 0.000e+00, 0.000e+00, 0.000e+00,\n",
       "       0.000e+00, 0.000e+00, 0.000e+00, 0.000e+00, 0.000e+00, 0.000e+00,\n",
       "       0.000e+00, 0.000e+00, 0.000e+00, 0.000e+00, 0.000e+00, 0.000e+00,\n",
       "       0.000e+00, 0.000e+00, 0.000e+00, 0.000e+00, 0.000e+00, 0.000e+00,\n",
       "       0.000e+00, 0.000e+00, 0.000e+00, 0.000e+00, 0.000e+00, 0.000e+00,\n",
       "       0.000e+00, 0.000e+00, 0.000e+00, 0.000e+00, 0.000e+00, 0.000e+00,\n",
       "       0.000e+00, 0.000e+00, 0.000e+00, 0.000e+00, 0.000e+00, 0.000e+00,\n",
       "       0.000e+00, 0.000e+00, 0.000e+00, 0.000e+00, 0.000e+00, 0.000e+00,\n",
       "       0.000e+00, 0.000e+00, 0.000e+00, 0.000e+00, 0.000e+00, 0.000e+00,\n",
       "       0.000e+00, 0.000e+00, 0.000e+00, 0.000e+00, 0.000e+00, 0.000e+00,\n",
       "       0.000e+00, 0.000e+00, 0.000e+00, 0.000e+00, 0.000e+00, 0.000e+00,\n",
       "       0.000e+00, 0.000e+00, 0.000e+00, 0.000e+00, 0.000e+00, 0.000e+00,\n",
       "       0.000e+00, 0.000e+00, 0.000e+00, 0.000e+00, 0.000e+00, 0.000e+00,\n",
       "       0.000e+00, 0.000e+00, 0.000e+00, 0.000e+00, 0.000e+00, 0.000e+00,\n",
       "       0.000e+00, 0.000e+00, 0.000e+00, 0.000e+00, 0.000e+00, 0.000e+00,\n",
       "       0.000e+00, 0.000e+00, 0.000e+00, 0.000e+00, 0.000e+00])"
      ]
     },
     "execution_count": 39,
     "metadata": {},
     "output_type": "execute_result"
    }
   ],
   "source": [
    "interp1d(f_time,f_vals)(f_time[1:-1])"
   ]
  },
  {
   "cell_type": "code",
   "execution_count": 76,
   "id": "5c2c065f-bfaf-40b7-a3e7-b9617b8c8a38",
   "metadata": {},
   "outputs": [],
   "source": [
    "import yaml\n",
    "def load_yaml(fname):\n",
    "    with open(fname, 'r') as file:\n",
    "        data = yaml.safe_load(file)\n",
    "    return data\n",
    "\n",
    "def compute_normalized_force_response(device_force_values, MVC, forceRangeMin=0.05, forceRangeMax=0.30, clamp=None):\n",
    "    \"\"\"\n",
    "    Convert from sensor values to heigt values that were used in the display for direct comparison to the target sequence. Works fine for any array.\n",
    "    ((deviceForceValue / MVC) - forceRangeMin)/(forceRangeMax-forceRangeMin)\n",
    "\n",
    "    MVC:            maximumum voluntary contraction of this individual (in original device units)\n",
    "    clamp:          list of min/max values to clamp any values that are above or below to, default = None (no clamping)\n",
    "    \"\"\"\n",
    "\n",
    "    norm_resp = ((device_force_values / MVC) - forceRangeMin)/(forceRangeMax-forceRangeMin)\n",
    "    if clamp is not None:\n",
    "        norm_resp[norm_resp<clamp[0]] = clamp[0]\n",
    "        norm_resp[norm_resp>clamp[1]] = clamp[1]\n",
    "    return norm_resp"
   ]
  },
  {
   "cell_type": "code",
   "execution_count": 77,
   "id": "f52d12fd-8562-4060-86e3-7e037237d944",
   "metadata": {},
   "outputs": [],
   "source": [
    "data = load_yaml('./testing/TEST_out-file.yml')\n",
    "blocks = data['blocks']\n",
    "# input data 1st block 1st trial (left): blocks[0]['trials'][0]['leftReference']\n",
    "#       times,values\n",
    "#block start time @ startTimestamp, end @ endTimestamp\n",
    "\n",
    "MVC = data['maximumLeftVoluntaryContraction']\n",
    "t_time = np.array(blocks[0]['trials'][0]['leftReference']['times'])\n",
    "t_vals = np.array(blocks[0]['trials'][0]['leftReference']['values'])\n",
    "\n",
    "#all times from the device over the course of the experiment\n",
    "resp = data['devices'][0]\n",
    "all_f_time = np.array(resp['times'])\n",
    "all_f_vals = compute_normalized_force_response(np.array(resp['values']),MVC)\n",
    "\n",
    "#loop this to identify the start and end times of the trials\n",
    "start = t_time[0]\n",
    "end = t_time[-1]\n",
    "\n",
    "f_trial_mask = (all_f_time-start >= 0) & (all_f_time-end<=0)\n",
    "f_time = all_f_time[f_trial_mask]\n",
    "f_vals = all_f_vals[f_trial_mask]\n",
    "\n",
    "t_vals_interp = np.interp(f_time,t_time,t_vals) #linear (piece-wise) interpolation of presented target bar positions into the actual response, now we can subtract directly\n",
    "\n",
    "#but first we should do the crosscorr\n",
    "trial_rmse = np.sqrt(np.mean((t_vals_interp-f_vals)**2)) #root mean squared error #TOOD: have someone confirm algo\n",
    "trial_sse = ((t_vals_interp-f_vals)**2).sum()\n"
   ]
  },
  {
   "cell_type": "code",
   "execution_count": null,
   "id": "5d3c5110-da72-4404-b051-7ae920eb03f8",
   "metadata": {},
   "outputs": [],
   "source": []
  },
  {
   "cell_type": "code",
   "execution_count": 56,
   "id": "e54f86b8-54d6-4219-9f68-e34b4871fe10",
   "metadata": {},
   "outputs": [
    {
     "ename": "ValueError",
     "evalue": "A value in x_new is above the interpolation range.",
     "output_type": "error",
     "traceback": [
      "\u001b[0;31m---------------------------------------------------------------------------\u001b[0m",
      "\u001b[0;31mValueError\u001b[0m                                Traceback (most recent call last)",
      "\u001b[0;32m/tmp/ipykernel_224859/3584316667.py\u001b[0m in \u001b[0;36m<module>\u001b[0;34m\u001b[0m\n\u001b[0;32m----> 1\u001b[0;31m \u001b[0mplt\u001b[0m\u001b[0;34m.\u001b[0m\u001b[0mplot\u001b[0m\u001b[0;34m(\u001b[0m\u001b[0minterp1d\u001b[0m\u001b[0;34m(\u001b[0m\u001b[0mf_time\u001b[0m\u001b[0;34m,\u001b[0m\u001b[0mt_vals_interp\u001b[0m\u001b[0;34m,\u001b[0m\u001b[0mkind\u001b[0m\u001b[0;34m=\u001b[0m\u001b[0;34m'cubic'\u001b[0m\u001b[0;34m)\u001b[0m\u001b[0;34m(\u001b[0m\u001b[0mf_time\u001b[0m\u001b[0;34m[\u001b[0m\u001b[0;36m1\u001b[0m\u001b[0;34m:\u001b[0m\u001b[0;34m-\u001b[0m\u001b[0;36m1\u001b[0m\u001b[0;34m]\u001b[0m\u001b[0;34m+\u001b[0m\u001b[0;36m40\u001b[0m\u001b[0;34m)\u001b[0m \u001b[0;34m-\u001b[0m \u001b[0mf_vals\u001b[0m\u001b[0;34m[\u001b[0m\u001b[0;36m1\u001b[0m\u001b[0;34m:\u001b[0m\u001b[0;34m-\u001b[0m\u001b[0;36m1\u001b[0m\u001b[0;34m]\u001b[0m\u001b[0;34m)\u001b[0m\u001b[0;34m\u001b[0m\u001b[0;34m\u001b[0m\u001b[0m\n\u001b[0m",
      "\u001b[0;32m/opt/quarantine/miniforge/envs/py3p9/lib/python3.9/site-packages/scipy/interpolate/polyint.py\u001b[0m in \u001b[0;36m__call__\u001b[0;34m(self, x)\u001b[0m\n\u001b[1;32m     76\u001b[0m         \"\"\"\n\u001b[1;32m     77\u001b[0m         \u001b[0mx\u001b[0m\u001b[0;34m,\u001b[0m \u001b[0mx_shape\u001b[0m \u001b[0;34m=\u001b[0m \u001b[0mself\u001b[0m\u001b[0;34m.\u001b[0m\u001b[0m_prepare_x\u001b[0m\u001b[0;34m(\u001b[0m\u001b[0mx\u001b[0m\u001b[0;34m)\u001b[0m\u001b[0;34m\u001b[0m\u001b[0;34m\u001b[0m\u001b[0m\n\u001b[0;32m---> 78\u001b[0;31m         \u001b[0my\u001b[0m \u001b[0;34m=\u001b[0m \u001b[0mself\u001b[0m\u001b[0;34m.\u001b[0m\u001b[0m_evaluate\u001b[0m\u001b[0;34m(\u001b[0m\u001b[0mx\u001b[0m\u001b[0;34m)\u001b[0m\u001b[0;34m\u001b[0m\u001b[0;34m\u001b[0m\u001b[0m\n\u001b[0m\u001b[1;32m     79\u001b[0m         \u001b[0;32mreturn\u001b[0m \u001b[0mself\u001b[0m\u001b[0;34m.\u001b[0m\u001b[0m_finish_y\u001b[0m\u001b[0;34m(\u001b[0m\u001b[0my\u001b[0m\u001b[0;34m,\u001b[0m \u001b[0mx_shape\u001b[0m\u001b[0;34m)\u001b[0m\u001b[0;34m\u001b[0m\u001b[0;34m\u001b[0m\u001b[0m\n\u001b[1;32m     80\u001b[0m \u001b[0;34m\u001b[0m\u001b[0m\n",
      "\u001b[0;32m/opt/quarantine/miniforge/envs/py3p9/lib/python3.9/site-packages/scipy/interpolate/interpolate.py\u001b[0m in \u001b[0;36m_evaluate\u001b[0;34m(self, x_new)\u001b[0m\n\u001b[1;32m    682\u001b[0m         \u001b[0my_new\u001b[0m \u001b[0;34m=\u001b[0m \u001b[0mself\u001b[0m\u001b[0;34m.\u001b[0m\u001b[0m_call\u001b[0m\u001b[0;34m(\u001b[0m\u001b[0mself\u001b[0m\u001b[0;34m,\u001b[0m \u001b[0mx_new\u001b[0m\u001b[0;34m)\u001b[0m\u001b[0;34m\u001b[0m\u001b[0;34m\u001b[0m\u001b[0m\n\u001b[1;32m    683\u001b[0m         \u001b[0;32mif\u001b[0m \u001b[0;32mnot\u001b[0m \u001b[0mself\u001b[0m\u001b[0;34m.\u001b[0m\u001b[0m_extrapolate\u001b[0m\u001b[0;34m:\u001b[0m\u001b[0;34m\u001b[0m\u001b[0;34m\u001b[0m\u001b[0m\n\u001b[0;32m--> 684\u001b[0;31m             \u001b[0mbelow_bounds\u001b[0m\u001b[0;34m,\u001b[0m \u001b[0mabove_bounds\u001b[0m \u001b[0;34m=\u001b[0m \u001b[0mself\u001b[0m\u001b[0;34m.\u001b[0m\u001b[0m_check_bounds\u001b[0m\u001b[0;34m(\u001b[0m\u001b[0mx_new\u001b[0m\u001b[0;34m)\u001b[0m\u001b[0;34m\u001b[0m\u001b[0;34m\u001b[0m\u001b[0m\n\u001b[0m\u001b[1;32m    685\u001b[0m             \u001b[0;32mif\u001b[0m \u001b[0mlen\u001b[0m\u001b[0;34m(\u001b[0m\u001b[0my_new\u001b[0m\u001b[0;34m)\u001b[0m \u001b[0;34m>\u001b[0m \u001b[0;36m0\u001b[0m\u001b[0;34m:\u001b[0m\u001b[0;34m\u001b[0m\u001b[0;34m\u001b[0m\u001b[0m\n\u001b[1;32m    686\u001b[0m                 \u001b[0;31m# Note fill_value must be broadcast up to the proper size\u001b[0m\u001b[0;34m\u001b[0m\u001b[0;34m\u001b[0m\u001b[0m\n",
      "\u001b[0;32m/opt/quarantine/miniforge/envs/py3p9/lib/python3.9/site-packages/scipy/interpolate/interpolate.py\u001b[0m in \u001b[0;36m_check_bounds\u001b[0;34m(self, x_new)\u001b[0m\n\u001b[1;32m    714\u001b[0m                              \"range.\")\n\u001b[1;32m    715\u001b[0m         \u001b[0;32mif\u001b[0m \u001b[0mself\u001b[0m\u001b[0;34m.\u001b[0m\u001b[0mbounds_error\u001b[0m \u001b[0;32mand\u001b[0m \u001b[0mabove_bounds\u001b[0m\u001b[0;34m.\u001b[0m\u001b[0many\u001b[0m\u001b[0;34m(\u001b[0m\u001b[0;34m)\u001b[0m\u001b[0;34m:\u001b[0m\u001b[0;34m\u001b[0m\u001b[0;34m\u001b[0m\u001b[0m\n\u001b[0;32m--> 716\u001b[0;31m             raise ValueError(\"A value in x_new is above the interpolation \"\n\u001b[0m\u001b[1;32m    717\u001b[0m                              \"range.\")\n\u001b[1;32m    718\u001b[0m \u001b[0;34m\u001b[0m\u001b[0m\n",
      "\u001b[0;31mValueError\u001b[0m: A value in x_new is above the interpolation range."
     ]
    }
   ],
   "source": [
    "plt.plot(interp1d(f_time,t_vals_interp,kind='cubic')(f_time[1:-1]+40) - f_vals[1:-1])"
   ]
  },
  {
   "cell_type": "code",
   "execution_count": 57,
   "id": "1e4a0005-1f22-4c58-a8fc-25f01a2d3b76",
   "metadata": {},
   "outputs": [
    {
     "name": "stdout",
     "output_type": "stream",
     "text": [
      "[0]\n",
      "[0.]\n",
      "[0.]\n",
      "[1.49011612e-08]\n",
      "[43.85663121]\n",
      "[43.85663186]\n",
      "[75.77818409]\n",
      "[75.77818522]\n",
      "[106.51907261]\n",
      "[106.5190742]\n",
      "[136.89578893]\n",
      "[136.89579097]\n",
      "[156.66973844]\n",
      "[156.66974078]\n",
      "[176.33277135]\n",
      "[176.33277398]\n",
      "[192.10592087]\n",
      "[192.10592373]\n",
      "[205.79148946]\n",
      "[205.79149253]\n",
      "[215.61669761]\n",
      "[215.61670082]\n",
      "[225.43243101]\n",
      "[225.43243437]\n",
      "[235.20201161]\n",
      "[235.20201511]\n",
      "[241.34768707]\n",
      "[241.34769066]\n",
      "[244.8743289]\n",
      "[244.87433255]\n",
      "[244.87472806]\n"
     ]
    }
   ],
   "source": [
    "def err_func(p):\n",
    "    print(p)\n",
    "    return interp1d(f_time,t_vals_interp,fill_value=\"extrapolate\")(f_time[1:-1]+p[0]) - f_vals[1:-1]\n",
    "\n",
    "p0 = [0,] # Inital guess of no shift\n",
    "found_shift = leastsq(err_func,p0)[0][0]"
   ]
  },
  {
   "cell_type": "code",
   "execution_count": 69,
   "id": "b8aec477-780e-49d2-9ec6-7e9c89e8a07a",
   "metadata": {},
   "outputs": [
    {
     "data": {
      "text/plain": [
       "[<matplotlib.lines.Line2D at 0x7f0a615506d0>]"
      ]
     },
     "execution_count": 69,
     "metadata": {},
     "output_type": "execute_result"
    },
    {
     "data": {
      "image/png": "[encoded data removed]",
      "text/plain": [
       "<Figure size 432x288 with 1 Axes>"
      ]
     },
     "metadata": {
      "needs_background": "light"
     },
     "output_type": "display_data"
    }
   ],
   "source": [
    "x_new = np.linspace(0,1.1,1000)\n",
    "intfunc = interp1d(f_time,t_vals_interp,fill_value=\"extrapolate\")\n",
    "\n",
    "# plt.plot(f_time,t_vals_interp)\n",
    "plt.plot(x_new,intfunc(x_new))"
   ]
  },
  {
   "cell_type": "code",
   "execution_count": 74,
   "id": "0839fe54-af60-4c6a-8601-10be7eb186ea",
   "metadata": {},
   "outputs": [
    {
     "data": {
      "text/plain": [
       "13106296.01"
      ]
     },
     "execution_count": 74,
     "metadata": {},
     "output_type": "execute_result"
    }
   ],
   "source": [
    "f_time.max()"
   ]
  },
  {
   "cell_type": "code",
   "execution_count": 78,
   "id": "4ca51c9c-57ca-40dc-befa-6df1e3a08c41",
   "metadata": {},
   "outputs": [
    {
     "data": {
      "text/plain": [
       "array([149])"
      ]
     },
     "execution_count": 78,
     "metadata": {},
     "output_type": "execute_result"
    }
   ],
   "source": [
    "crosscorr = np.correlate(f_vals,t_vals_interp,mode='full')\n",
    "max_idx = np.where(crosscorr==np.max(crosscorr))[0]\n",
    "if max_idx.shape[0] > 1:\n",
    "    print(\"Oh no, you have more than one location with max lag!\")\n",
    "    return 9999\n"
   ]
  },
  {
   "cell_type": "code",
   "execution_count": 79,
   "id": "8db7e781-e75f-4cd5-b5dc-e67f0fc662b8",
   "metadata": {},
   "outputs": [
    {
     "data": {
      "text/plain": [
       "array(0)"
      ]
     },
     "execution_count": 79,
     "metadata": {},
     "output_type": "execute_result"
    }
   ],
   "source": []
  },
  {
   "cell_type": "code",
   "execution_count": 34,
   "id": "59d0864c-e8df-4e7e-bba4-23870bb1615c",
   "metadata": {},
   "outputs": [
    {
     "data": {
      "text/plain": [
       "(array([403]),)"
      ]
     },
     "execution_count": 34,
     "metadata": {},
     "output_type": "execute_result"
    },
    {
     "data": {
      "image/png": "[encoded data removed]",
      "text/plain": [
       "<Figure size 432x288 with 1 Axes>"
      ]
     },
     "metadata": {
      "needs_background": "light"
     },
     "output_type": "display_data"
    }
   ],
   "source": [
    "plt.plot(crosscorr),plt.ylim([35,40])\n",
    "np.where(crosscorr==np.max(crosscorr))"
   ]
  }
 ],
 "metadata": {
  "kernelspec": {
   "display_name": "Python 3 (ipykernel)",
   "language": "python",
   "name": "python3"
  },
  "language_info": {
   "codemirror_mode": {
    "name": "ipython",
    "version": 3
   },
   "file_extension": ".py",
   "mimetype": "text/x-python",
   "name": "python",
   "nbconvert_exporter": "python",
   "pygments_lexer": "ipython3",
   "version": "3.9.7"
  }
 },
 "nbformat": 4,
 "nbformat_minor": 5
}
